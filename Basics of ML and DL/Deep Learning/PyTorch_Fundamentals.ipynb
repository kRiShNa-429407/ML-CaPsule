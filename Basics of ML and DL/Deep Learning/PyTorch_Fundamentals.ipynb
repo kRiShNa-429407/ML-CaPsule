{
  "nbformat": 4,
  "nbformat_minor": 0,
  "metadata": {
    "colab": {
      "provenance": []
    },
    "kernelspec": {
      "name": "python3",
      "display_name": "Python 3"
    },
    "language_info": {
      "name": "python"
    }
  },
  "cells": [
    {
      "cell_type": "markdown",
      "source": [
        "# PyTorch Fundamentals"
      ],
      "metadata": {
        "id": "iGWT92pNOspm"
      }
    },
    {
      "cell_type": "code",
      "source": [
        "# Import pytorch in our codespace\n",
        "import torch\n",
        "print(torch.__version__)"
      ],
      "metadata": {
        "id": "MUkBBvPaO0Lp",
        "colab": {
          "base_uri": "https://localhost:8080/"
        },
        "outputId": "d637938c-04bd-4120-fe73-14beaf2029cb"
      },
      "execution_count": 2,
      "outputs": [
        {
          "output_type": "stream",
          "name": "stdout",
          "text": [
            "2.3.0+cu121\n"
          ]
        }
      ]
    },
    {
      "cell_type": "markdown",
      "source": [
        "2.3.0 is the pytorch version and 121 is the cuda version"
      ],
      "metadata": {
        "id": "hzXcL97wO0I9"
      }
    },
    {
      "cell_type": "markdown",
      "source": [
        "Now you have already seen how to create a tensor in pytorch. In this notebook i am going to show you the operations which can be applied on a tensor with a quick previous revision."
      ],
      "metadata": {
        "id": "C4bDBhJzO0GL"
      }
    },
    {
      "cell_type": "markdown",
      "source": [
        "### 1. Creating tensors"
      ],
      "metadata": {
        "id": "SrSF9pc8xdW_"
      }
    },
    {
      "cell_type": "code",
      "source": [
        "# Scalar tensor ( a zero dimension tensor)\n",
        "scalar = torch.tensor(7)\n",
        "print(scalar)"
      ],
      "metadata": {
        "colab": {
          "base_uri": "https://localhost:8080/"
        },
        "id": "NhtWay11xdUf",
        "outputId": "113c64cd-6a96-43a9-f222-2891d7097abf"
      },
      "execution_count": 3,
      "outputs": [
        {
          "output_type": "stream",
          "name": "stdout",
          "text": [
            "tensor(7)\n"
          ]
        }
      ]
    },
    {
      "cell_type": "code",
      "source": [
        "# Check the dimension of the above tensor\n",
        "print(scalar.ndim)"
      ],
      "metadata": {
        "colab": {
          "base_uri": "https://localhost:8080/"
        },
        "id": "RUtBXE3oxdSJ",
        "outputId": "c36a240c-654f-4275-b4b0-dac4fb1bdb80"
      },
      "execution_count": 4,
      "outputs": [
        {
          "output_type": "stream",
          "name": "stdout",
          "text": [
            "0\n"
          ]
        }
      ]
    },
    {
      "cell_type": "code",
      "source": [
        "# To retrieve the number from the tensor we use `item()`\n",
        "print(scalar.item())"
      ],
      "metadata": {
        "colab": {
          "base_uri": "https://localhost:8080/"
        },
        "id": "psJ5ySqhyK59",
        "outputId": "35368e02-b67c-4725-c9ed-d649976848bb"
      },
      "execution_count": 5,
      "outputs": [
        {
          "output_type": "stream",
          "name": "stdout",
          "text": [
            "7\n"
          ]
        }
      ]
    },
    {
      "cell_type": "code",
      "source": [
        "# Vector (It is a single dimension tensor but contain many numbers)\n",
        "vector = torch.tensor([1,2])\n",
        "print(vector)"
      ],
      "metadata": {
        "colab": {
          "base_uri": "https://localhost:8080/"
        },
        "id": "gflPFfiVyaH4",
        "outputId": "122d4a4d-61c0-4a0f-b77f-02a5c87f9d55"
      },
      "execution_count": 6,
      "outputs": [
        {
          "output_type": "stream",
          "name": "stdout",
          "text": [
            "tensor([1, 2])\n"
          ]
        }
      ]
    },
    {
      "cell_type": "code",
      "source": [
        "# Check the dimensions\n",
        "print(vector.ndim)"
      ],
      "metadata": {
        "colab": {
          "base_uri": "https://localhost:8080/"
        },
        "id": "suBYvwL_yrq9",
        "outputId": "e6ff3da2-7c02-41c8-a03c-4e4346ebc9bc"
      },
      "execution_count": 7,
      "outputs": [
        {
          "output_type": "stream",
          "name": "stdout",
          "text": [
            "1\n"
          ]
        }
      ]
    },
    {
      "cell_type": "code",
      "source": [
        "# Check the shape of the vector\n",
        "print(vector.shape)"
      ],
      "metadata": {
        "colab": {
          "base_uri": "https://localhost:8080/"
        },
        "id": "Ucn4zna9yzMs",
        "outputId": "cfb6e7d2-a194-4353-835d-e5b42f1873c8"
      },
      "execution_count": 8,
      "outputs": [
        {
          "output_type": "stream",
          "name": "stdout",
          "text": [
            "torch.Size([2])\n"
          ]
        }
      ]
    },
    {
      "cell_type": "markdown",
      "source": [
        "The above returns torch.Size([2]) which means our vector has a shape of [2]. This is because of the two elements we placed inside the square brackets ([1,2])"
      ],
      "metadata": {
        "id": "2cLROGs9y89a"
      }
    },
    {
      "cell_type": "markdown",
      "source": [
        "Note:\n",
        "I'll let you in on a trick.\n",
        "\n",
        "You can tell the number of dimensions a tensor in PyTorch has by the number of square brackets on the outside ([) and you only need to count one side."
      ],
      "metadata": {
        "id": "n_EL3xof0z6l"
      }
    },
    {
      "cell_type": "code",
      "source": [
        "# Let's create a matrix\n",
        "MATRIX = torch.tensor([[1,2],\n",
        "                       [4,5]])\n",
        "print(MATRIX)"
      ],
      "metadata": {
        "colab": {
          "base_uri": "https://localhost:8080/"
        },
        "id": "oJH5gqRR1E8Y",
        "outputId": "81a34229-f7b1-4278-c7c0-7f4639e8998b"
      },
      "execution_count": 9,
      "outputs": [
        {
          "output_type": "stream",
          "name": "stdout",
          "text": [
            "tensor([[1, 2],\n",
            "        [4, 5]])\n"
          ]
        }
      ]
    },
    {
      "cell_type": "markdown",
      "source": [
        "There are two brackets so it must be 2 dimensions , lets check"
      ],
      "metadata": {
        "id": "nHsA7_cp1E55"
      }
    },
    {
      "cell_type": "code",
      "source": [
        "print(MATRIX.ndim)"
      ],
      "metadata": {
        "colab": {
          "base_uri": "https://localhost:8080/"
        },
        "id": "s6I7ZOA51E3f",
        "outputId": "2c53c37c-874e-4ede-8a0c-ac3dbcc071ca"
      },
      "execution_count": 10,
      "outputs": [
        {
          "output_type": "stream",
          "name": "stdout",
          "text": [
            "2\n"
          ]
        }
      ]
    },
    {
      "cell_type": "code",
      "source": [
        "# Shape\n",
        "print(MATRIX.shape)"
      ],
      "metadata": {
        "colab": {
          "base_uri": "https://localhost:8080/"
        },
        "id": "eBoePNwh1E05",
        "outputId": "bcd40c32-61a8-4536-b457-fe88607c8887"
      },
      "execution_count": 11,
      "outputs": [
        {
          "output_type": "stream",
          "name": "stdout",
          "text": [
            "torch.Size([2, 2])\n"
          ]
        }
      ]
    },
    {
      "cell_type": "markdown",
      "source": [
        "It means MATRIX has 2 rows and 2 columns."
      ],
      "metadata": {
        "id": "1E6BdgAn1w0h"
      }
    },
    {
      "cell_type": "code",
      "source": [
        "# Let's create a TENSOR\n",
        "TENSOR = torch.tensor([[[1,2,3],\n",
        "                        [4,5,6],\n",
        "                        [7,8,9]]])\n",
        "print(TENSOR)"
      ],
      "metadata": {
        "colab": {
          "base_uri": "https://localhost:8080/"
        },
        "id": "Js0ZK7jv19Gf",
        "outputId": "d4f33b56-ab10-4e7a-b64e-21eb477312e5"
      },
      "execution_count": 14,
      "outputs": [
        {
          "output_type": "stream",
          "name": "stdout",
          "text": [
            "tensor([[[1, 2, 3],\n",
            "         [4, 5, 6],\n",
            "         [7, 8, 9]]])\n"
          ]
        }
      ]
    },
    {
      "cell_type": "code",
      "source": [
        "# Let's check the dimensions\n",
        "print(TENSOR.ndim)"
      ],
      "metadata": {
        "colab": {
          "base_uri": "https://localhost:8080/"
        },
        "id": "OY05kuie19D_",
        "outputId": "e9ee8101-ce1c-4781-f9e8-d7d12dd20373"
      },
      "execution_count": 15,
      "outputs": [
        {
          "output_type": "stream",
          "name": "stdout",
          "text": [
            "3\n"
          ]
        }
      ]
    },
    {
      "cell_type": "code",
      "source": [
        "# shape?\n",
        "print(TENSOR.shape)"
      ],
      "metadata": {
        "colab": {
          "base_uri": "https://localhost:8080/"
        },
        "id": "VTd5tjNG19Bw",
        "outputId": "6138e00d-6efb-43e5-8ae5-ac4b1a5e3e8d"
      },
      "execution_count": 16,
      "outputs": [
        {
          "output_type": "stream",
          "name": "stdout",
          "text": [
            "torch.Size([1, 3, 3])\n"
          ]
        }
      ]
    },
    {
      "cell_type": "markdown",
      "source": [
        "The dimensions go outer to inner.\n",
        "\n",
        "That means there's 1 dimension of 3 by 3."
      ],
      "metadata": {
        "id": "LRhoqLj12bTD"
      }
    },
    {
      "cell_type": "markdown",
      "source": [
        "##### Let's summarise\n",
        "\n",
        "* scalar -> a single number having 0 dimension.\n",
        "* vector -> have many numbers but having 1 dimension.\n",
        "* matrix -> a array of numbers having 2 dimensions.\n",
        "* tensor -> a array of numbers having n dimensions."
      ],
      "metadata": {
        "id": "0hUf1iN92jfT"
      }
    },
    {
      "cell_type": "markdown",
      "source": [
        "### Random Tensors"
      ],
      "metadata": {
        "id": "TDurxwXp2jdE"
      }
    },
    {
      "cell_type": "markdown",
      "source": [
        "We can create them using `torch.rand()` and passing in the `size` parameter."
      ],
      "metadata": {
        "id": "PxJQD-p-2jan"
      }
    },
    {
      "cell_type": "code",
      "source": [
        "# creating a random tensor of size (3,4)\n",
        "rand_tensor = torch.rand(size = (3,4))\n",
        "print(rand_tensor)"
      ],
      "metadata": {
        "colab": {
          "base_uri": "https://localhost:8080/"
        },
        "id": "uLe-jMzX2jX8",
        "outputId": "edd4ff06-9656-433b-af40-a5b43ac69b5a"
      },
      "execution_count": 17,
      "outputs": [
        {
          "output_type": "stream",
          "name": "stdout",
          "text": [
            "tensor([[0.7462, 0.4950, 0.7851, 0.8277],\n",
            "        [0.6112, 0.5159, 0.1728, 0.6847],\n",
            "        [0.4472, 0.1612, 0.6481, 0.3236]])\n"
          ]
        }
      ]
    },
    {
      "cell_type": "code",
      "source": [
        "# Check the dimensions\n",
        "print(rand_tensor.ndim)"
      ],
      "metadata": {
        "colab": {
          "base_uri": "https://localhost:8080/"
        },
        "id": "Fb3SVluG4AZb",
        "outputId": "fc379310-179e-4fbf-9697-906a858b6ced"
      },
      "execution_count": 19,
      "outputs": [
        {
          "output_type": "stream",
          "name": "stdout",
          "text": [
            "2\n"
          ]
        }
      ]
    },
    {
      "cell_type": "code",
      "source": [
        "# Shape\n",
        "print(rand_tensor.shape)"
      ],
      "metadata": {
        "colab": {
          "base_uri": "https://localhost:8080/"
        },
        "id": "sOGyh7hu4IlU",
        "outputId": "e868f558-16b9-41d3-ce74-a644de70f823"
      },
      "execution_count": 20,
      "outputs": [
        {
          "output_type": "stream",
          "name": "stdout",
          "text": [
            "torch.Size([3, 4])\n"
          ]
        }
      ]
    },
    {
      "cell_type": "code",
      "source": [
        "# datatype\n",
        "print(rand_tensor.dtype)"
      ],
      "metadata": {
        "colab": {
          "base_uri": "https://localhost:8080/"
        },
        "id": "RI4gGxTm4QFc",
        "outputId": "3843a18a-f678-4486-fba4-d4eb0ee8c6d6"
      },
      "execution_count": 21,
      "outputs": [
        {
          "output_type": "stream",
          "name": "stdout",
          "text": [
            "torch.float32\n"
          ]
        }
      ]
    },
    {
      "cell_type": "markdown",
      "source": [
        "### Zeros and ones\n",
        "\n",
        "Here we will create a tensor of any shape filled with zeros and ones"
      ],
      "metadata": {
        "id": "1BkJ70mn4WHI"
      }
    },
    {
      "cell_type": "code",
      "source": [
        "# Create a tensor of all zeros\n",
        "zeros = torch.zeros(size = (3,4))\n",
        "print(zeros)"
      ],
      "metadata": {
        "colab": {
          "base_uri": "https://localhost:8080/"
        },
        "id": "9uEK-ybM43sp",
        "outputId": "0d065ba5-092c-48eb-ab45-e6b7333f7298"
      },
      "execution_count": 22,
      "outputs": [
        {
          "output_type": "stream",
          "name": "stdout",
          "text": [
            "tensor([[0., 0., 0., 0.],\n",
            "        [0., 0., 0., 0.],\n",
            "        [0., 0., 0., 0.]])\n"
          ]
        }
      ]
    },
    {
      "cell_type": "code",
      "source": [
        "# create a tensor of ones\n",
        "ones = torch.ones(size = (3,4))\n",
        "print(ones)"
      ],
      "metadata": {
        "colab": {
          "base_uri": "https://localhost:8080/"
        },
        "id": "5laQlpap43p6",
        "outputId": "6b909661-e9f5-4fda-c306-3cda54cf2cdc"
      },
      "execution_count": 23,
      "outputs": [
        {
          "output_type": "stream",
          "name": "stdout",
          "text": [
            "tensor([[1., 1., 1., 1.],\n",
            "        [1., 1., 1., 1.],\n",
            "        [1., 1., 1., 1.]])\n"
          ]
        }
      ]
    },
    {
      "cell_type": "markdown",
      "source": [
        "### Create a tensor having range of numbers"
      ],
      "metadata": {
        "id": "aolC_Q_J43nq"
      }
    },
    {
      "cell_type": "markdown",
      "source": [
        "You can use `torch.arange(start, end, step)` to do so.\n",
        "\n",
        "Where:\n",
        "\n",
        "* start = start of range (e.g. 0)\n",
        "* end = end of range (e.g. 10)\n",
        "* step = how many steps in between each value (e.g. 1)"
      ],
      "metadata": {
        "id": "_8HaeY8t5QqB"
      }
    },
    {
      "cell_type": "markdown",
      "source": [
        "> Note: In Python, you can use range() to create a range. However in PyTorch, torch.range() is deprecated show error, show use `torch.arange()`"
      ],
      "metadata": {
        "id": "wHJFbywd5Qnq"
      }
    },
    {
      "cell_type": "code",
      "source": [
        "zero_to_ten = torch.arange(start = 0,\n",
        "                           end = 10,\n",
        "                           step = 1)\n",
        "print(zero_to_ten)"
      ],
      "metadata": {
        "colab": {
          "base_uri": "https://localhost:8080/"
        },
        "id": "cHx4knQ85QlU",
        "outputId": "16030c6f-60a7-4394-e172-ef3a2bf2b00a"
      },
      "execution_count": 24,
      "outputs": [
        {
          "output_type": "stream",
          "name": "stdout",
          "text": [
            "tensor([0, 1, 2, 3, 4, 5, 6, 7, 8, 9])\n"
          ]
        }
      ]
    },
    {
      "cell_type": "markdown",
      "source": [
        "# 2. Manipulating tensors (tensor operations)"
      ],
      "metadata": {
        "id": "8bXLkmyC5yJP"
      }
    },
    {
      "cell_type": "markdown",
      "source": [
        "The operations are :\n",
        "\n",
        "* Addition\n",
        "* Substraction\n",
        "* Multiplication (element-wise)\n",
        "* Division\n",
        "* Matrix multiplication"
      ],
      "metadata": {
        "id": "ncRkLfCo56uo"
      }
    },
    {
      "cell_type": "markdown",
      "source": [
        "### 1. Addition"
      ],
      "metadata": {
        "id": "hr0kdN1T56si"
      }
    },
    {
      "cell_type": "code",
      "source": [
        "tensor = torch.tensor([1,2,3])\n",
        "print(tensor+10)"
      ],
      "metadata": {
        "colab": {
          "base_uri": "https://localhost:8080/"
        },
        "id": "3dHPr3T556qH",
        "outputId": "11354f90-271a-47b5-ebc1-6cbaf0763b68"
      },
      "execution_count": 25,
      "outputs": [
        {
          "output_type": "stream",
          "name": "stdout",
          "text": [
            "tensor([11, 12, 13])\n"
          ]
        }
      ]
    },
    {
      "cell_type": "markdown",
      "source": [
        "We have add 10 to each tensor element."
      ],
      "metadata": {
        "id": "1OGCaqKI56n5"
      }
    },
    {
      "cell_type": "code",
      "source": [
        "tensor1 = torch.tensor([4,5,6])\n",
        "print(tensor+tensor1)"
      ],
      "metadata": {
        "colab": {
          "base_uri": "https://localhost:8080/"
        },
        "id": "7jhfrihx6Wud",
        "outputId": "e286763e-1520-437c-9002-5429d90d2424"
      },
      "execution_count": 27,
      "outputs": [
        {
          "output_type": "stream",
          "name": "stdout",
          "text": [
            "tensor([5, 7, 9])\n"
          ]
        }
      ]
    },
    {
      "cell_type": "markdown",
      "source": [
        "We have added two tensors , remember that addition takes place element wise."
      ],
      "metadata": {
        "id": "3r6GAKI86Wo-"
      }
    },
    {
      "cell_type": "markdown",
      "source": [
        "### 2. Subtraction"
      ],
      "metadata": {
        "id": "IzMhYfIC6rlc"
      }
    },
    {
      "cell_type": "code",
      "source": [
        "print(tensor-8)"
      ],
      "metadata": {
        "colab": {
          "base_uri": "https://localhost:8080/"
        },
        "id": "4uKXUXCA6ri5",
        "outputId": "add2ecbe-0722-494a-f81c-790fdb2a430a"
      },
      "execution_count": 29,
      "outputs": [
        {
          "output_type": "stream",
          "name": "stdout",
          "text": [
            "tensor([-7, -6, -5])\n"
          ]
        }
      ]
    },
    {
      "cell_type": "markdown",
      "source": [
        "We've subtracted 8 from the above tensor."
      ],
      "metadata": {
        "id": "N1VhxqjE6rgi"
      }
    },
    {
      "cell_type": "code",
      "source": [
        "print(tensor-tensor1)"
      ],
      "metadata": {
        "colab": {
          "base_uri": "https://localhost:8080/"
        },
        "id": "myxqNLIX64-J",
        "outputId": "dfd37781-e9c3-4005-a60c-31b2443983cd"
      },
      "execution_count": 30,
      "outputs": [
        {
          "output_type": "stream",
          "name": "stdout",
          "text": [
            "tensor([-3, -3, -3])\n"
          ]
        }
      ]
    },
    {
      "cell_type": "markdown",
      "source": [
        "### 3. Multiplication"
      ],
      "metadata": {
        "id": "i-kMvkf_647q"
      }
    },
    {
      "cell_type": "code",
      "source": [
        "# Multiply the tensor with 10 (element wise)\n",
        "print(tensor*10)"
      ],
      "metadata": {
        "colab": {
          "base_uri": "https://localhost:8080/"
        },
        "id": "AraMq6pP7EEI",
        "outputId": "9d12c0e8-6c32-4498-b292-d3b393ba6e98"
      },
      "execution_count": 34,
      "outputs": [
        {
          "output_type": "stream",
          "name": "stdout",
          "text": [
            "tensor([10, 20, 30])\n"
          ]
        }
      ]
    },
    {
      "cell_type": "markdown",
      "source": [
        "Each element of tensor gets multiplied by 10."
      ],
      "metadata": {
        "id": "r_LUP2wd7EBs"
      }
    },
    {
      "cell_type": "markdown",
      "source": [
        "Note:\n",
        "\n",
        "PyTorch also has a bunch of built-in functions like `torch.mul()` (short for multiplication) and `torch.add()` to perform basic operations."
      ],
      "metadata": {
        "id": "N2zcgWLB7OqJ"
      }
    },
    {
      "cell_type": "code",
      "source": [
        "# let's see them\n",
        "print(torch.add(tensor,10))"
      ],
      "metadata": {
        "colab": {
          "base_uri": "https://localhost:8080/"
        },
        "id": "pcnUU2Xf7Onh",
        "outputId": "6890e188-a472-4973-db59-3abb6ce5be45"
      },
      "execution_count": 32,
      "outputs": [
        {
          "output_type": "stream",
          "name": "stdout",
          "text": [
            "tensor([11, 12, 13])\n"
          ]
        }
      ]
    },
    {
      "cell_type": "code",
      "source": [
        "print(torch.mul(tensor,10))"
      ],
      "metadata": {
        "colab": {
          "base_uri": "https://localhost:8080/"
        },
        "id": "imkRvvZg7D_D",
        "outputId": "ead78182-37da-48bd-8362-b9f8abb0851b"
      },
      "execution_count": 33,
      "outputs": [
        {
          "output_type": "stream",
          "name": "stdout",
          "text": [
            "tensor([10, 20, 30])\n"
          ]
        }
      ]
    },
    {
      "cell_type": "markdown",
      "source": [
        "### Matrix multiplication (is all you need)\n",
        "One of the most common operations in machine learning and deep learning algorithms (like neural networks) is matrix multiplication.\n",
        "\n",
        "PyTorch implements matrix multiplication functionality in the `torch.matmul()` method."
      ],
      "metadata": {
        "id": "hGFE2rIv7obe"
      }
    },
    {
      "cell_type": "markdown",
      "source": [
        "The main two rules for matrix multiplication to remember are:\n",
        "\n",
        "The inner dimensions must match:\n",
        "* (3, 2) @ (3, 2) won't work\n",
        "* (2, 3) @ (3, 2) will work\n",
        "* (3, 2) @ (2, 3) will work\n",
        "The resulting matrix has the shape of the outer dimensions:\n",
        "* (2, 3) @ (3, 2) -> (2, 2)\n",
        "* (3, 2) @ (2, 3) -> (3, 3)\n",
        "\n",
        "\n",
        "Note: \"@\" in Python is the symbol for matrix multiplication."
      ],
      "metadata": {
        "id": "Wo4Oo-oB7oY_"
      }
    },
    {
      "cell_type": "code",
      "source": [
        "# let's perform the matrix multiplication\n",
        "tensor1 = torch.tensor([[[1,2,3],\n",
        "                         [4,5,6],\n",
        "                         [7,8,9]]])\n",
        "tensor2 = torch.tensor([[[1,1,1],\n",
        "                         [2,2,2],\n",
        "                         [3,3,3]]])\n",
        "\n",
        "print(tensor1) , print(tensor2)"
      ],
      "metadata": {
        "colab": {
          "base_uri": "https://localhost:8080/"
        },
        "id": "k49A0OwA7oWn",
        "outputId": "d35b4ad0-af73-4d13-df64-eef6181ff824"
      },
      "execution_count": 35,
      "outputs": [
        {
          "output_type": "stream",
          "name": "stdout",
          "text": [
            "tensor([[[1, 2, 3],\n",
            "         [4, 5, 6],\n",
            "         [7, 8, 9]]])\n",
            "tensor([[[1, 1, 1],\n",
            "         [2, 2, 2],\n",
            "         [3, 3, 3]]])\n"
          ]
        },
        {
          "output_type": "execute_result",
          "data": {
            "text/plain": [
              "(None, None)"
            ]
          },
          "metadata": {},
          "execution_count": 35
        }
      ]
    },
    {
      "cell_type": "code",
      "source": [
        "# let's check the shape\n",
        "print(tensor1.shape) , print(tensor2.shape)"
      ],
      "metadata": {
        "colab": {
          "base_uri": "https://localhost:8080/"
        },
        "id": "XaJz4a7x8aJP",
        "outputId": "1756d8da-a869-4ffa-d996-7b0ca8d8c5aa"
      },
      "execution_count": 36,
      "outputs": [
        {
          "output_type": "stream",
          "name": "stdout",
          "text": [
            "torch.Size([1, 3, 3])\n",
            "torch.Size([1, 3, 3])\n"
          ]
        },
        {
          "output_type": "execute_result",
          "data": {
            "text/plain": [
              "(None, None)"
            ]
          },
          "metadata": {},
          "execution_count": 36
        }
      ]
    },
    {
      "cell_type": "code",
      "source": [
        " # Matrix multiplication\n",
        "print(torch.matmul(tensor1, tensor2))"
      ],
      "metadata": {
        "colab": {
          "base_uri": "https://localhost:8080/"
        },
        "id": "I7kvGG_Q8nI9",
        "outputId": "0aa89087-6615-4d1c-9e2b-6f7deeecddf7"
      },
      "execution_count": 38,
      "outputs": [
        {
          "output_type": "stream",
          "name": "stdout",
          "text": [
            "tensor([[[14, 14, 14],\n",
            "         [32, 32, 32],\n",
            "         [50, 50, 50]]])\n"
          ]
        }
      ]
    },
    {
      "cell_type": "code",
      "source": [
        "# Can also use the \"@\" symbol for matrix multiplication, though not recommended\n",
        "print(tensor1 @ tensor2)"
      ],
      "metadata": {
        "colab": {
          "base_uri": "https://localhost:8080/"
        },
        "id": "PmgxMZwG8upf",
        "outputId": "08b5c2a1-7ad6-4594-d25b-919f9fe19b11"
      },
      "execution_count": 39,
      "outputs": [
        {
          "output_type": "stream",
          "name": "stdout",
          "text": [
            "tensor([[[14, 14, 14],\n",
            "         [32, 32, 32],\n",
            "         [50, 50, 50]]])\n"
          ]
        }
      ]
    },
    {
      "cell_type": "markdown",
      "source": [
        "Note:\n",
        "\n",
        "If shape is not perfect you can transpose the tensor and perform the matrix multiplication."
      ],
      "metadata": {
        "id": "UVvfRMHn82MX"
      }
    }
  ]
}